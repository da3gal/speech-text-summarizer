{
  "nbformat": 4,
  "nbformat_minor": 0,
  "metadata": {
    "colab": {
      "provenance": [],
      "collapsed_sections": [
        "bJfiZQNIAuTQ"
      ],
      "mount_file_id": "1k8ixUGwbmq-n7waG7hpvloDPaMW0CI5O",
      "authorship_tag": "ABX9TyPGju+PyPxHU74WL1BOAjK9",
      "include_colab_link": true
    },
    "kernelspec": {
      "name": "python3",
      "display_name": "Python 3"
    },
    "language_info": {
      "name": "python"
    }
  },
  "cells": [
    {
      "cell_type": "markdown",
      "metadata": {
        "id": "view-in-github",
        "colab_type": "text"
      },
      "source": [
        "<a href=\"https://colab.research.google.com/github/da3gal/speech-text-summarizer/blob/main/Summarizer_Speech.ipynb\" target=\"_parent\"><img src=\"https://colab.research.google.com/assets/colab-badge.svg\" alt=\"Open In Colab\"/></a>"
      ]
    },
    {
      "cell_type": "markdown",
      "source": [
        "# Speech Recognition Summarizer"
      ],
      "metadata": {
        "id": "MTIAej3BAxEs"
      }
    },
    {
      "cell_type": "code",
      "source": [
        "!pip install transformers SpeechRecognition pydub -q"
      ],
      "metadata": {
        "id": "x_zPn9oGA1BV"
      },
      "execution_count": 1,
      "outputs": []
    },
    {
      "cell_type": "code",
      "source": [
        "from transformers import T5ForConditionalGeneration, T5Tokenizer\n",
        "import speech_recognition as sr\n",
        "from pydub import AudioSegment"
      ],
      "metadata": {
        "id": "jyEOCPXWA4rI"
      },
      "execution_count": 2,
      "outputs": []
    },
    {
      "cell_type": "code",
      "source": [
        "model_name = \"t5-base\"\n",
        "model = T5ForConditionalGeneration.from_pretrained(model_name)\n",
        "tokenizer = T5Tokenizer.from_pretrained(model_name)"
      ],
      "metadata": {
        "id": "BJjpEuFYA5di",
        "colab": {
          "base_uri": "https://localhost:8080/"
        },
        "outputId": "2d8a4450-5fd1-493c-fef0-8862f61cd2ad"
      },
      "execution_count": 3,
      "outputs": [
        {
          "output_type": "stream",
          "name": "stderr",
          "text": [
            "/usr/local/lib/python3.10/dist-packages/huggingface_hub/utils/_token.py:89: UserWarning: \n",
            "The secret `HF_TOKEN` does not exist in your Colab secrets.\n",
            "To authenticate with the Hugging Face Hub, create a token in your settings tab (https://huggingface.co/settings/tokens), set it as secret in your Google Colab and restart your session.\n",
            "You will be able to reuse this secret in all of your notebooks.\n",
            "Please note that authentication is recommended but still optional to access public models or datasets.\n",
            "  warnings.warn(\n",
            "You are using the default legacy behaviour of the <class 'transformers.models.t5.tokenization_t5.T5Tokenizer'>. This is expected, and simply means that the `legacy` (previous) behavior will be used so nothing changes for you. If you want to use the new behaviour, set `legacy=False`. This should only be set if you understand what it means, and thoroughly read the reason why this was added as explained in https://github.com/huggingface/transformers/pull/24565\n",
            "/usr/local/lib/python3.10/dist-packages/transformers/tokenization_utils_base.py:1601: FutureWarning: `clean_up_tokenization_spaces` was not set. It will be set to `True` by default. This behavior will be depracted in transformers v4.45, and will be then set to `False` by default. For more details check this issue: https://github.com/huggingface/transformers/issues/31884\n",
            "  warnings.warn(\n"
          ]
        }
      ]
    },
    {
      "cell_type": "code",
      "source": [
        "def summarize_text(text, max_length=100):\n",
        "    input_text = \"summarize into short key point: \" + text\n",
        "    input_ids = tokenizer.encode(input_text, return_tensors=\"pt\", max_length=512, truncation=True)\n",
        "    summary_ids = model.generate(input_ids, max_length=max_length, min_length=30, length_penalty=2.0, num_beams=4, early_stopping=True)\n",
        "    summary = tokenizer.decode(summary_ids[0], skip_special_tokens=True)\n",
        "    return summary"
      ],
      "metadata": {
        "id": "dqtF0XP4A6Sa"
      },
      "execution_count": 4,
      "outputs": []
    },
    {
      "cell_type": "code",
      "source": [
        "def convert_audio_to_text(file_path):\n",
        "    recognizer = sr.Recognizer()\n",
        "    with sr.AudioFile(file_path) as source:\n",
        "        audio = recognizer.record(source)\n",
        "        try:\n",
        "            text = recognizer.recognize_google(audio, language=\"id-ID\")\n",
        "            print(\"Teks hasil konversi audio:\")\n",
        "            print(text)\n",
        "            return text\n",
        "        except sr.UnknownValueError:\n",
        "            print(\"Maaf, suara tidak dapat dikenali.\")\n",
        "        except sr.RequestError:\n",
        "            print(\"Permintaan gagal ke layanan pengenalan suara.\")\n",
        "        return None"
      ],
      "metadata": {
        "id": "NnPSSq5vA7ZY"
      },
      "execution_count": 5,
      "outputs": []
    },
    {
      "cell_type": "code",
      "source": [
        "audio_file_path = \"/content/drive/MyDrive/Colab Notebooks/speech_sample.wav\"  # Replace with the actual path (.wav)\n",
        "audio_text = convert_audio_to_text(audio_file_path)\n",
        "if audio_text:\n",
        "    summary = summarize_text(audio_text)\n",
        "    print(\"\\nRingkasan:\")\n",
        "    print(summary)"
      ],
      "metadata": {
        "colab": {
          "base_uri": "https://localhost:8080/"
        },
        "id": "J3tRVZohA8aG",
        "outputId": "4d0f1776-5d5a-48cc-9cfb-87cfa5435ff9"
      },
      "execution_count": 6,
      "outputs": [
        {
          "output_type": "stream",
          "name": "stdout",
          "text": [
            "Teks hasil konversi audio:\n",
            "kemajuan teknologi di era digital telah memungkinkan terciptanya berbagai solusi inovatif dalam berbagai bidang salah satunya adalah dalam pemrosesan suara dan teks Real Time speech summarization atau ringkasan ucapan secara langsung menjadi satu di antara kebutuhan penting dalam berbagai situasi seperti rapat presentasi atau kegiatan akademik dalam konteks ini audien seringkali dihadapkan pada kesulitan untuk menangkap seluruh Informasi yang disampaikan secara efektif terutama jika waktu terbatas atau materi yang disampaikan kompleks dan teknis paparan terhadap pidato atau percakapan yang panjang dapat menimbulkan kelelahan mental dan menurunkan produktivitas\n",
            "\n",
            "Ringkasan:\n",
            "teknologi di era digital telah memungkinkan terciptanya berbagai bidang salah satunya adalah dalam pemrosesan suara dan teks Real Time speech summarization atau ringkasan ucapan secara langsung menjadi satu di antara kebutuhan\n"
          ]
        }
      ]
    }
  ]
}